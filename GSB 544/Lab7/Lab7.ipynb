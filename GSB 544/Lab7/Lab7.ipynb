{
  "cells": [
    {
      "cell_type": "markdown",
      "metadata": {},
      "source": [
        "---\n",
        "title: \"Lab 7 - Heart Attack\"\n",
        "author: \"Tyler Allen\"\n",
        "date: \"2024-11-25\"\n",
        "format:\n",
        "  html:\n",
        "    cold-fold: true\n",
        "    embed-resources: true\n",
        "theme: \"lux\"\n",
        "---"
      ]
    },
    {
      "cell_type": "code",
      "execution_count": 2,
      "metadata": {
        "colab": {
          "base_uri": "https://localhost:8080/",
          "height": 206
        },
        "id": "QRAyN4Dzigic",
        "outputId": "b940697e-d909-4b7e-bb78-757222069f12"
      },
      "outputs": [
        {
          "data": {
            "application/vnd.google.colaboratory.intrinsic+json": {
              "summary": "{\n  \"name\": \"ha\",\n  \"rows\": 273,\n  \"fields\": [\n    {\n      \"column\": \"age\",\n      \"properties\": {\n        \"dtype\": \"number\",\n        \"std\": 9,\n        \"min\": 29,\n        \"max\": 77,\n        \"num_unique_values\": 41,\n        \"samples\": [\n          47,\n          69,\n          49\n        ],\n        \"semantic_type\": \"\",\n        \"description\": \"\"\n      }\n    },\n    {\n      \"column\": \"sex\",\n      \"properties\": {\n        \"dtype\": \"number\",\n        \"std\": 0,\n        \"min\": 0,\n        \"max\": 1,\n        \"num_unique_values\": 2,\n        \"samples\": [\n          0,\n          1\n        ],\n        \"semantic_type\": \"\",\n        \"description\": \"\"\n      }\n    },\n    {\n      \"column\": \"cp\",\n      \"properties\": {\n        \"dtype\": \"number\",\n        \"std\": 1,\n        \"min\": 0,\n        \"max\": 3,\n        \"num_unique_values\": 4,\n        \"samples\": [\n          2,\n          0\n        ],\n        \"semantic_type\": \"\",\n        \"description\": \"\"\n      }\n    },\n    {\n      \"column\": \"trtbps\",\n      \"properties\": {\n        \"dtype\": \"number\",\n        \"std\": 17,\n        \"min\": 94,\n        \"max\": 200,\n        \"num_unique_values\": 48,\n        \"samples\": [\n          148,\n          165\n        ],\n        \"semantic_type\": \"\",\n        \"description\": \"\"\n      }\n    },\n    {\n      \"column\": \"chol\",\n      \"properties\": {\n        \"dtype\": \"number\",\n        \"std\": 52,\n        \"min\": 126,\n        \"max\": 564,\n        \"num_unique_values\": 148,\n        \"samples\": [\n          174,\n          211\n        ],\n        \"semantic_type\": \"\",\n        \"description\": \"\"\n      }\n    },\n    {\n      \"column\": \"restecg\",\n      \"properties\": {\n        \"dtype\": \"number\",\n        \"std\": 0,\n        \"min\": 0,\n        \"max\": 2,\n        \"num_unique_values\": 3,\n        \"samples\": [\n          0,\n          1\n        ],\n        \"semantic_type\": \"\",\n        \"description\": \"\"\n      }\n    },\n    {\n      \"column\": \"thalach\",\n      \"properties\": {\n        \"dtype\": \"number\",\n        \"std\": 23,\n        \"min\": 71,\n        \"max\": 202,\n        \"num_unique_values\": 90,\n        \"samples\": [\n          132,\n          140\n        ],\n        \"semantic_type\": \"\",\n        \"description\": \"\"\n      }\n    },\n    {\n      \"column\": \"output\",\n      \"properties\": {\n        \"dtype\": \"number\",\n        \"std\": 0,\n        \"min\": 0,\n        \"max\": 1,\n        \"num_unique_values\": 2,\n        \"samples\": [\n          0,\n          1\n        ],\n        \"semantic_type\": \"\",\n        \"description\": \"\"\n      }\n    }\n  ]\n}",
              "type": "dataframe",
              "variable_name": "ha"
            },
            "text/html": [
              "\n",
              "  <div id=\"df-fd89e7a7-75bb-4ae3-bae1-fdf707827581\" class=\"colab-df-container\">\n",
              "    <div>\n",
              "<style scoped>\n",
              "    .dataframe tbody tr th:only-of-type {\n",
              "        vertical-align: middle;\n",
              "    }\n",
              "\n",
              "    .dataframe tbody tr th {\n",
              "        vertical-align: top;\n",
              "    }\n",
              "\n",
              "    .dataframe thead th {\n",
              "        text-align: right;\n",
              "    }\n",
              "</style>\n",
              "<table border=\"1\" class=\"dataframe\">\n",
              "  <thead>\n",
              "    <tr style=\"text-align: right;\">\n",
              "      <th></th>\n",
              "      <th>age</th>\n",
              "      <th>sex</th>\n",
              "      <th>cp</th>\n",
              "      <th>trtbps</th>\n",
              "      <th>chol</th>\n",
              "      <th>restecg</th>\n",
              "      <th>thalach</th>\n",
              "      <th>output</th>\n",
              "    </tr>\n",
              "  </thead>\n",
              "  <tbody>\n",
              "    <tr>\n",
              "      <th>0</th>\n",
              "      <td>63</td>\n",
              "      <td>1</td>\n",
              "      <td>3</td>\n",
              "      <td>145</td>\n",
              "      <td>233</td>\n",
              "      <td>0</td>\n",
              "      <td>150</td>\n",
              "      <td>1</td>\n",
              "    </tr>\n",
              "    <tr>\n",
              "      <th>1</th>\n",
              "      <td>37</td>\n",
              "      <td>1</td>\n",
              "      <td>2</td>\n",
              "      <td>130</td>\n",
              "      <td>250</td>\n",
              "      <td>1</td>\n",
              "      <td>187</td>\n",
              "      <td>1</td>\n",
              "    </tr>\n",
              "    <tr>\n",
              "      <th>2</th>\n",
              "      <td>56</td>\n",
              "      <td>1</td>\n",
              "      <td>1</td>\n",
              "      <td>120</td>\n",
              "      <td>236</td>\n",
              "      <td>1</td>\n",
              "      <td>178</td>\n",
              "      <td>1</td>\n",
              "    </tr>\n",
              "    <tr>\n",
              "      <th>3</th>\n",
              "      <td>57</td>\n",
              "      <td>0</td>\n",
              "      <td>0</td>\n",
              "      <td>120</td>\n",
              "      <td>354</td>\n",
              "      <td>1</td>\n",
              "      <td>163</td>\n",
              "      <td>1</td>\n",
              "    </tr>\n",
              "    <tr>\n",
              "      <th>4</th>\n",
              "      <td>57</td>\n",
              "      <td>1</td>\n",
              "      <td>0</td>\n",
              "      <td>140</td>\n",
              "      <td>192</td>\n",
              "      <td>1</td>\n",
              "      <td>148</td>\n",
              "      <td>1</td>\n",
              "    </tr>\n",
              "  </tbody>\n",
              "</table>\n",
              "</div>\n",
              "    <div class=\"colab-df-buttons\">\n",
              "\n",
              "  <div class=\"colab-df-container\">\n",
              "    <button class=\"colab-df-convert\" onclick=\"convertToInteractive('df-fd89e7a7-75bb-4ae3-bae1-fdf707827581')\"\n",
              "            title=\"Convert this dataframe to an interactive table.\"\n",
              "            style=\"display:none;\">\n",
              "\n",
              "  <svg xmlns=\"http://www.w3.org/2000/svg\" height=\"24px\" viewBox=\"0 -960 960 960\">\n",
              "    <path d=\"M120-120v-720h720v720H120Zm60-500h600v-160H180v160Zm220 220h160v-160H400v160Zm0 220h160v-160H400v160ZM180-400h160v-160H180v160Zm440 0h160v-160H620v160ZM180-180h160v-160H180v160Zm440 0h160v-160H620v160Z\"/>\n",
              "  </svg>\n",
              "    </button>\n",
              "\n",
              "  <style>\n",
              "    .colab-df-container {\n",
              "      display:flex;\n",
              "      gap: 12px;\n",
              "    }\n",
              "\n",
              "    .colab-df-convert {\n",
              "      background-color: #E8F0FE;\n",
              "      border: none;\n",
              "      border-radius: 50%;\n",
              "      cursor: pointer;\n",
              "      display: none;\n",
              "      fill: #1967D2;\n",
              "      height: 32px;\n",
              "      padding: 0 0 0 0;\n",
              "      width: 32px;\n",
              "    }\n",
              "\n",
              "    .colab-df-convert:hover {\n",
              "      background-color: #E2EBFA;\n",
              "      box-shadow: 0px 1px 2px rgba(60, 64, 67, 0.3), 0px 1px 3px 1px rgba(60, 64, 67, 0.15);\n",
              "      fill: #174EA6;\n",
              "    }\n",
              "\n",
              "    .colab-df-buttons div {\n",
              "      margin-bottom: 4px;\n",
              "    }\n",
              "\n",
              "    [theme=dark] .colab-df-convert {\n",
              "      background-color: #3B4455;\n",
              "      fill: #D2E3FC;\n",
              "    }\n",
              "\n",
              "    [theme=dark] .colab-df-convert:hover {\n",
              "      background-color: #434B5C;\n",
              "      box-shadow: 0px 1px 3px 1px rgba(0, 0, 0, 0.15);\n",
              "      filter: drop-shadow(0px 1px 2px rgba(0, 0, 0, 0.3));\n",
              "      fill: #FFFFFF;\n",
              "    }\n",
              "  </style>\n",
              "\n",
              "    <script>\n",
              "      const buttonEl =\n",
              "        document.querySelector('#df-fd89e7a7-75bb-4ae3-bae1-fdf707827581 button.colab-df-convert');\n",
              "      buttonEl.style.display =\n",
              "        google.colab.kernel.accessAllowed ? 'block' : 'none';\n",
              "\n",
              "      async function convertToInteractive(key) {\n",
              "        const element = document.querySelector('#df-fd89e7a7-75bb-4ae3-bae1-fdf707827581');\n",
              "        const dataTable =\n",
              "          await google.colab.kernel.invokeFunction('convertToInteractive',\n",
              "                                                    [key], {});\n",
              "        if (!dataTable) return;\n",
              "\n",
              "        const docLinkHtml = 'Like what you see? Visit the ' +\n",
              "          '<a target=\"_blank\" href=https://colab.research.google.com/notebooks/data_table.ipynb>data table notebook</a>'\n",
              "          + ' to learn more about interactive tables.';\n",
              "        element.innerHTML = '';\n",
              "        dataTable['output_type'] = 'display_data';\n",
              "        await google.colab.output.renderOutput(dataTable, element);\n",
              "        const docLink = document.createElement('div');\n",
              "        docLink.innerHTML = docLinkHtml;\n",
              "        element.appendChild(docLink);\n",
              "      }\n",
              "    </script>\n",
              "  </div>\n",
              "\n",
              "\n",
              "<div id=\"df-e736a394-d824-4f50-b77d-421f3e4a4159\">\n",
              "  <button class=\"colab-df-quickchart\" onclick=\"quickchart('df-e736a394-d824-4f50-b77d-421f3e4a4159')\"\n",
              "            title=\"Suggest charts\"\n",
              "            style=\"display:none;\">\n",
              "\n",
              "<svg xmlns=\"http://www.w3.org/2000/svg\" height=\"24px\"viewBox=\"0 0 24 24\"\n",
              "     width=\"24px\">\n",
              "    <g>\n",
              "        <path d=\"M19 3H5c-1.1 0-2 .9-2 2v14c0 1.1.9 2 2 2h14c1.1 0 2-.9 2-2V5c0-1.1-.9-2-2-2zM9 17H7v-7h2v7zm4 0h-2V7h2v10zm4 0h-2v-4h2v4z\"/>\n",
              "    </g>\n",
              "</svg>\n",
              "  </button>\n",
              "\n",
              "<style>\n",
              "  .colab-df-quickchart {\n",
              "      --bg-color: #E8F0FE;\n",
              "      --fill-color: #1967D2;\n",
              "      --hover-bg-color: #E2EBFA;\n",
              "      --hover-fill-color: #174EA6;\n",
              "      --disabled-fill-color: #AAA;\n",
              "      --disabled-bg-color: #DDD;\n",
              "  }\n",
              "\n",
              "  [theme=dark] .colab-df-quickchart {\n",
              "      --bg-color: #3B4455;\n",
              "      --fill-color: #D2E3FC;\n",
              "      --hover-bg-color: #434B5C;\n",
              "      --hover-fill-color: #FFFFFF;\n",
              "      --disabled-bg-color: #3B4455;\n",
              "      --disabled-fill-color: #666;\n",
              "  }\n",
              "\n",
              "  .colab-df-quickchart {\n",
              "    background-color: var(--bg-color);\n",
              "    border: none;\n",
              "    border-radius: 50%;\n",
              "    cursor: pointer;\n",
              "    display: none;\n",
              "    fill: var(--fill-color);\n",
              "    height: 32px;\n",
              "    padding: 0;\n",
              "    width: 32px;\n",
              "  }\n",
              "\n",
              "  .colab-df-quickchart:hover {\n",
              "    background-color: var(--hover-bg-color);\n",
              "    box-shadow: 0 1px 2px rgba(60, 64, 67, 0.3), 0 1px 3px 1px rgba(60, 64, 67, 0.15);\n",
              "    fill: var(--button-hover-fill-color);\n",
              "  }\n",
              "\n",
              "  .colab-df-quickchart-complete:disabled,\n",
              "  .colab-df-quickchart-complete:disabled:hover {\n",
              "    background-color: var(--disabled-bg-color);\n",
              "    fill: var(--disabled-fill-color);\n",
              "    box-shadow: none;\n",
              "  }\n",
              "\n",
              "  .colab-df-spinner {\n",
              "    border: 2px solid var(--fill-color);\n",
              "    border-color: transparent;\n",
              "    border-bottom-color: var(--fill-color);\n",
              "    animation:\n",
              "      spin 1s steps(1) infinite;\n",
              "  }\n",
              "\n",
              "  @keyframes spin {\n",
              "    0% {\n",
              "      border-color: transparent;\n",
              "      border-bottom-color: var(--fill-color);\n",
              "      border-left-color: var(--fill-color);\n",
              "    }\n",
              "    20% {\n",
              "      border-color: transparent;\n",
              "      border-left-color: var(--fill-color);\n",
              "      border-top-color: var(--fill-color);\n",
              "    }\n",
              "    30% {\n",
              "      border-color: transparent;\n",
              "      border-left-color: var(--fill-color);\n",
              "      border-top-color: var(--fill-color);\n",
              "      border-right-color: var(--fill-color);\n",
              "    }\n",
              "    40% {\n",
              "      border-color: transparent;\n",
              "      border-right-color: var(--fill-color);\n",
              "      border-top-color: var(--fill-color);\n",
              "    }\n",
              "    60% {\n",
              "      border-color: transparent;\n",
              "      border-right-color: var(--fill-color);\n",
              "    }\n",
              "    80% {\n",
              "      border-color: transparent;\n",
              "      border-right-color: var(--fill-color);\n",
              "      border-bottom-color: var(--fill-color);\n",
              "    }\n",
              "    90% {\n",
              "      border-color: transparent;\n",
              "      border-bottom-color: var(--fill-color);\n",
              "    }\n",
              "  }\n",
              "</style>\n",
              "\n",
              "  <script>\n",
              "    async function quickchart(key) {\n",
              "      const quickchartButtonEl =\n",
              "        document.querySelector('#' + key + ' button');\n",
              "      quickchartButtonEl.disabled = true;  // To prevent multiple clicks.\n",
              "      quickchartButtonEl.classList.add('colab-df-spinner');\n",
              "      try {\n",
              "        const charts = await google.colab.kernel.invokeFunction(\n",
              "            'suggestCharts', [key], {});\n",
              "      } catch (error) {\n",
              "        console.error('Error during call to suggestCharts:', error);\n",
              "      }\n",
              "      quickchartButtonEl.classList.remove('colab-df-spinner');\n",
              "      quickchartButtonEl.classList.add('colab-df-quickchart-complete');\n",
              "    }\n",
              "    (() => {\n",
              "      let quickchartButtonEl =\n",
              "        document.querySelector('#df-e736a394-d824-4f50-b77d-421f3e4a4159 button');\n",
              "      quickchartButtonEl.style.display =\n",
              "        google.colab.kernel.accessAllowed ? 'block' : 'none';\n",
              "    })();\n",
              "  </script>\n",
              "</div>\n",
              "\n",
              "    </div>\n",
              "  </div>\n"
            ],
            "text/plain": [
              "   age  sex  cp  trtbps  chol  restecg  thalach  output\n",
              "0   63    1   3     145   233        0      150       1\n",
              "1   37    1   2     130   250        1      187       1\n",
              "2   56    1   1     120   236        1      178       1\n",
              "3   57    0   0     120   354        1      163       1\n",
              "4   57    1   0     140   192        1      148       1"
            ]
          },
          "execution_count": 2,
          "metadata": {},
          "output_type": "execute_result"
        }
      ],
      "source": [
        "import pandas as pd\n",
        "ha = pd.read_csv(\"https://www.dropbox.com/s/aohbr6yb9ifmc8w/heart_attack.csv?dl=1\")\n",
        "ha.head()"
      ]
    },
    {
      "cell_type": "code",
      "execution_count": null,
      "metadata": {
        "id": "p9RMSDyQqPm9"
      },
      "outputs": [],
      "source": [
        "#input this at the end to get rid of the unnecessary warnings\n",
        "import warnings\n",
        "warnings.filterwarnings(\"ignore\")"
      ]
    },
    {
      "cell_type": "markdown",
      "metadata": {
        "id": "Dhm3Rh41jJ0h"
      },
      "source": [
        "**Part One: Fitting Models**\n",
        "\n",
        "This section asks you to create a final best model for each of the model types studied this week. For each, you should:\n",
        "\n",
        "  - Find the best model based on ROC AUC for predicting the target variable.\n",
        "\n",
        "  - Report the (cross-validated!) ROC AUC metric.\n",
        "\n",
        "  - Fit the final model.\n",
        "\n",
        "  - Output a confusion matrix; that is, the counts of how many observations fell into each predicted class for each true class.\n",
        "\n",
        "  - (Where applicable) Interpret the coefficients and/or estimates produced by the model fit.\n",
        "\n",
        "You should certainly try multiple model pipelines to find the best model. You do not need to include the output for every attempted model, but you should describe all of the models explored. You should include any hyperparameter tuning steps in your writeup as well."
      ]
    },
    {
      "cell_type": "markdown",
      "metadata": {
        "id": "w2uc76n3jWnk"
      },
      "source": [
        "**Q1: KNN**"
      ]
    },
    {
      "cell_type": "code",
      "execution_count": 3,
      "metadata": {
        "id": "lsmtW1OhjcB5"
      },
      "outputs": [],
      "source": [
        "from sklearn.model_selection import train_test_split, GridSearchCV, cross_val_score\n",
        "from sklearn.preprocessing import StandardScaler\n",
        "from sklearn.neighbors import KNeighborsClassifier\n",
        "from sklearn.metrics import roc_auc_score, confusion_matrix, classification_report\n",
        "\n",
        "X = ha.drop(columns=['output'])\n",
        "y = ha['output']\n",
        "\n",
        "X_train, X_test, y_train, y_test = train_test_split(X, y, test_size=0.2, random_state=42, stratify=y)\n",
        "\n",
        "#standardize\n",
        "scaler = StandardScaler()\n",
        "X_train_scaled = scaler.fit_transform(X_train)\n",
        "X_test_scaled = scaler.transform(X_test)"
      ]
    },
    {
      "cell_type": "code",
      "execution_count": 4,
      "metadata": {
        "colab": {
          "base_uri": "https://localhost:8080/"
        },
        "id": "BlP7xz81oRiJ",
        "outputId": "2627735b-b891-47b0-9336-e0424e888b99"
      },
      "outputs": [
        {
          "name": "stdout",
          "output_type": "stream",
          "text": [
            "Best number of neighbors: 13\n",
            "Best cross-validated ROC AUC score: 0.8723201345755693\n"
          ]
        },
        {
          "name": "stderr",
          "output_type": "stream",
          "text": [
            "/usr/local/lib/python3.10/dist-packages/numpy/ma/core.py:2820: RuntimeWarning: invalid value encountered in cast\n",
            "  _data = np.array(data, dtype=dtype, copy=copy,\n"
          ]
        }
      ],
      "source": [
        "#define KNN model\n",
        "knn = KNeighborsClassifier()\n",
        "\n",
        "#hyperparameter grid\n",
        "param_grid = {'n_neighbors': range(1, 31)}\n",
        "\n",
        "#GridSearch with cross-validation\n",
        "grid_search = GridSearchCV(knn, param_grid, cv=5, scoring='roc_auc')\n",
        "grid_search.fit(X_train_scaled, y_train)\n",
        "\n",
        "#best parameters and ROC AUC score\n",
        "best_k = grid_search.best_params_['n_neighbors']\n",
        "best_score = grid_search.best_score_\n",
        "\n",
        "print(f\"Best number of neighbors: {best_k}\")\n",
        "print(f\"Best cross-validated ROC AUC score: {best_score}\")"
      ]
    },
    {
      "cell_type": "code",
      "execution_count": 5,
      "metadata": {
        "colab": {
          "base_uri": "https://localhost:8080/"
        },
        "id": "Z0j-tnyjoTfZ",
        "outputId": "00dc4b65-1b09-4e04-f092-eab0f2e7b1d9"
      },
      "outputs": [
        {
          "name": "stdout",
          "output_type": "stream",
          "text": [
            "Test ROC AUC: 0.6803713527851459\n"
          ]
        }
      ],
      "source": [
        "#fitting final model with best k\n",
        "final_knn = KNeighborsClassifier(n_neighbors=best_k)\n",
        "final_knn.fit(X_train_scaled, y_train)\n",
        "\n",
        "#predicting on the test set\n",
        "y_pred = final_knn.predict(X_test_scaled)\n",
        "y_pred_proba = final_knn.predict_proba(X_test_scaled)[:, 1]\n",
        "\n",
        "#roc auc\n",
        "roc_auc = roc_auc_score(y_test, y_pred_proba)\n",
        "print(f\"Test ROC AUC: {roc_auc}\")"
      ]
    },
    {
      "cell_type": "code",
      "execution_count": 7,
      "metadata": {
        "colab": {
          "base_uri": "https://localhost:8080/"
        },
        "id": "qd4ibvkpoUKh",
        "outputId": "660ff23e-df41-461d-8adb-d3165e7ba638"
      },
      "outputs": [
        {
          "name": "stdout",
          "output_type": "stream",
          "text": [
            "Confusion Matrix:\n",
            "[[13 13]\n",
            " [10 19]]\n"
          ]
        }
      ],
      "source": [
        "#confusion matrix\n",
        "conf_matrix = confusion_matrix(y_test, y_pred)\n",
        "print(\"Confusion Matrix:\")\n",
        "print(conf_matrix)"
      ]
    },
    {
      "cell_type": "markdown",
      "metadata": {
        "id": "TjYDI1Q9jZbf"
      },
      "source": [
        "**Q2: Logistic Regression**"
      ]
    },
    {
      "cell_type": "code",
      "execution_count": 66,
      "metadata": {
        "colab": {
          "base_uri": "https://localhost:8080/"
        },
        "id": "Wjv5AIe0jdjF",
        "outputId": "6193108b-203e-4418-fbeb-9abf04bbf1d3"
      },
      "outputs": [
        {
          "name": "stdout",
          "output_type": "stream",
          "text": [
            "Best parameters: {'log_reg__C': 0.01, 'log_reg__penalty': 'l2'}\n",
            "Best cross-validated ROC AUC: 0.8645005175983437\n",
            "Best regularization parameter C: 0.01\n"
          ]
        }
      ],
      "source": [
        "from sklearn.linear_model import LogisticRegression\n",
        "from sklearn.pipeline import Pipeline\n",
        "\n",
        "#data is loaded, data is split and standardized\n",
        "\n",
        "#defining logistic regression model\n",
        "log_reg = LogisticRegression(solver='liblinear', random_state=42)\n",
        "\n",
        "#pipeline with hyperparameter tuning\n",
        "param_grid = {\n",
        "    'log_reg__C': [0.01, 0.1, 1, 10, 100],\n",
        "    'log_reg__penalty': ['l1', 'l2']  #L1 and L2 regularization\n",
        "}\n",
        "\n",
        "#GridSearchCV with the pipeline\n",
        "pipeline = Pipeline([\n",
        "    ('scaler', StandardScaler()),\n",
        "    ('log_reg', LogisticRegression(solver='liblinear', random_state=42))\n",
        "])\n",
        "\n",
        "grid_search = GridSearchCV(pipeline, param_grid, cv=5, scoring='roc_auc', refit=True)\n",
        "grid_search.fit(X_train, y_train)\n",
        "\n",
        "#best parameters and ROC AUC\n",
        "print(f\"Best parameters: {grid_search.best_params_}\")\n",
        "print(f\"Best cross-validated ROC AUC: {grid_search.best_score_}\")\n",
        "print(f\"Best regularization parameter C: {best_C}\")"
      ]
    },
    {
      "cell_type": "code",
      "execution_count": 27,
      "metadata": {
        "colab": {
          "base_uri": "https://localhost:8080/"
        },
        "id": "gTRy7lsetUnY",
        "outputId": "ca123acd-c3ad-4fe9-d890-51d3dea94564"
      },
      "outputs": [
        {
          "name": "stdout",
          "output_type": "stream",
          "text": [
            "Test ROC AUC: 0.7957559681697612\n"
          ]
        }
      ],
      "source": [
        "#fitting the final model\n",
        "final_model = grid_search.best_estimator_\n",
        "\n",
        "#training model on training set\n",
        "final_model.fit(X_train, y_train)\n",
        "\n",
        "#predicting on test set\n",
        "y_pred = final_model.predict(X_test)\n",
        "y_pred_proba = final_model.predict_proba(X_test)[:, 1]\n",
        "\n",
        "#roc auc\n",
        "roc_auc = roc_auc_score(y_test, y_pred_proba)\n",
        "print(f\"Test ROC AUC: {roc_auc}\")"
      ]
    },
    {
      "cell_type": "code",
      "execution_count": 28,
      "metadata": {
        "colab": {
          "base_uri": "https://localhost:8080/"
        },
        "id": "CE58ulm6rMmM",
        "outputId": "e4c755d9-f44e-48a4-c225-00ab62c2cb5e"
      },
      "outputs": [
        {
          "name": "stdout",
          "output_type": "stream",
          "text": [
            "Confusion Matrix:\n",
            "[[18  8]\n",
            " [ 7 22]]\n"
          ]
        }
      ],
      "source": [
        "#confusion matrix\n",
        "conf_matrix = confusion_matrix(y_test, y_pred)\n",
        "print(\"Confusion Matrix:\")\n",
        "print(conf_matrix)"
      ]
    },
    {
      "cell_type": "markdown",
      "metadata": {
        "id": "yL7LkVbauKNF"
      },
      "source": [
        "With this model we have 18 TNs, 8 FPs, 7 FNs, and 22 TPs. This gives us an accuracy score of 72.72%."
      ]
    },
    {
      "cell_type": "code",
      "execution_count": 48,
      "metadata": {
        "colab": {
          "base_uri": "https://localhost:8080/"
        },
        "id": "GgdYG0-ZrSo2",
        "outputId": "9891c3d2-3ef7-4a30-99ac-b6415ad25af6"
      },
      "outputs": [
        {
          "name": "stdout",
          "output_type": "stream",
          "text": [
            "Feature Coefficients:\n",
            "   Feature  Coefficient\n",
            "6  thalach     0.281803\n",
            "2       cp     0.249859\n",
            "5  restecg     0.094277\n",
            "4     chol    -0.023176\n",
            "3   trtbps    -0.061657\n",
            "0      age    -0.129045\n",
            "1      sex    -0.220666\n"
          ]
        }
      ],
      "source": [
        "#extracting coefficients and feature names\n",
        "coefficients = final_model.named_steps['log_reg'].coef_[0]\n",
        "features = X.columns\n",
        "\n",
        "#combining features and coefficients for interpretation\n",
        "coef_df = pd.DataFrame({'Feature': features, 'Coefficient': coefficients})\n",
        "coef_df = coef_df.sort_values(by='Coefficient', ascending=False)\n",
        "\n",
        "print(\"Feature Coefficients:\")\n",
        "print(coef_df)"
      ]
    },
    {
      "cell_type": "markdown",
      "metadata": {
        "id": "7sHU3XL1umsv"
      },
      "source": [
        "With a coefficient of 0.2818, this means that a 1 unit increase in thalach increases the log-odds of heart disease by 0.2818. With the following positive coefficients, these variables are all positively correlated with being at risk for heart disease, and the variables with negative coefficients are negatively correlated with being at risk for heart disease.\n",
        "\n",
        "Age has an interesting coefficient here, since heart disease risk usually increases with age. This could mean that there are interactions that could affect this model here."
      ]
    },
    {
      "cell_type": "markdown",
      "metadata": {
        "id": "FRbE6vzcjdx_"
      },
      "source": [
        "**Q3: Decision Tree**"
      ]
    },
    {
      "cell_type": "code",
      "execution_count": 42,
      "metadata": {
        "colab": {
          "base_uri": "https://localhost:8080/"
        },
        "id": "Iz6Ag5hgjgt8",
        "outputId": "e7ceb89d-96af-4eb9-b081-fd7cbe9f4155"
      },
      "outputs": [
        {
          "name": "stdout",
          "output_type": "stream",
          "text": [
            "Best parameters: {'ccp_alpha': 0.0, 'max_depth': 4, 'max_leaf_nodes': 20, 'min_samples_leaf': 5, 'min_samples_split': 5}\n",
            "Best cross-validated ROC AUC score: 0.8109006211180125\n"
          ]
        }
      ],
      "source": [
        "from sklearn.tree import DecisionTreeClassifier\n",
        "\n",
        "#defining decision tree model\n",
        "dt = DecisionTreeClassifier(random_state=42)\n",
        "\n",
        "#defining hyperparameter grid\n",
        "param_grid = {\n",
        "    'max_depth': [2, 4, 6, 8],\n",
        "    'min_samples_split': [5, 10, 20],\n",
        "    'min_samples_leaf': [5, 10, 20],  #min samples in a leaf\n",
        "    'max_leaf_nodes': [5, 10, 20],  #max number of leaf nodes\n",
        "    'ccp_alpha': [0.0, 0.01, 0.1]  #cost complexity pruning\n",
        "}\n",
        "\n",
        "#GridSearch with cross-validation\n",
        "grid_search = GridSearchCV(dt, param_grid, cv=5, scoring='roc_auc', refit=True)\n",
        "grid_search.fit(X_train, y_train)\n",
        "\n",
        "#best parameters and ROC AUC\n",
        "best_params = grid_search.best_params_\n",
        "best_score = grid_search.best_score_\n",
        "\n",
        "print(f\"Best parameters: {best_params}\")\n",
        "print(f\"Best cross-validated ROC AUC score: {best_score}\")"
      ]
    },
    {
      "cell_type": "code",
      "execution_count": 43,
      "metadata": {
        "colab": {
          "base_uri": "https://localhost:8080/"
        },
        "id": "beXsj1e8wLtR",
        "outputId": "cf5fbb12-1beb-41b6-d2e5-fc05b2b34acf"
      },
      "outputs": [
        {
          "name": "stdout",
          "output_type": "stream",
          "text": [
            "Test ROC AUC: 0.7009283819628647\n"
          ]
        }
      ],
      "source": [
        "#fiting final decision tree model\n",
        "final_dt = grid_search.best_estimator_\n",
        "final_dt.fit(X_train, y_train)\n",
        "\n",
        "#predict on test set\n",
        "y_pred = final_dt.predict(X_test)\n",
        "y_pred_proba = final_dt.predict_proba(X_test)[:, 1]\n",
        "\n",
        "#evaluating model\n",
        "roc_auc = roc_auc_score(y_test, y_pred_proba)\n",
        "print(f\"Test ROC AUC: {roc_auc}\")"
      ]
    },
    {
      "cell_type": "code",
      "execution_count": 44,
      "metadata": {
        "colab": {
          "base_uri": "https://localhost:8080/"
        },
        "id": "7h4pY5vSwOJD",
        "outputId": "93b1f28d-1f72-4a92-afae-f769fe39a7a1"
      },
      "outputs": [
        {
          "name": "stdout",
          "output_type": "stream",
          "text": [
            "Confusion Matrix:\n",
            "[[19  7]\n",
            " [10 19]]\n"
          ]
        }
      ],
      "source": [
        "#confusion matrix\n",
        "conf_matrix = confusion_matrix(y_test, y_pred)\n",
        "print(\"Confusion Matrix:\")\n",
        "print(conf_matrix)"
      ]
    },
    {
      "cell_type": "code",
      "execution_count": 45,
      "metadata": {
        "colab": {
          "base_uri": "https://localhost:8080/",
          "height": 675
        },
        "id": "m0MhF6cJwQQ-",
        "outputId": "b245c9f0-3885-4650-f385-8fc481575665"
      },
      "outputs": [
        {
          "data": {
            "image/png": "[encoded data removed]",
            "text/plain": [
              "<Figure size 1200x800 with 1 Axes>"
            ]
          },
          "metadata": {},
          "output_type": "display_data"
        }
      ],
      "source": [
        "#visualization\n",
        "from sklearn import tree\n",
        "import matplotlib.pyplot as plt\n",
        "\n",
        "plt.figure(figsize=(12, 8))\n",
        "tree.plot_tree(final_dt, feature_names=X.columns, class_names=['No Disease', 'Heart Disease'], filled=True)\n",
        "plt.title(\"Decision Tree Visualization\")\n",
        "plt.show()"
      ]
    },
    {
      "cell_type": "code",
      "execution_count": 50,
      "metadata": {
        "colab": {
          "base_uri": "https://localhost:8080/"
        },
        "id": "_LPsa4OPxKce",
        "outputId": "44a12a64-3036-46eb-ea30-f381b500f45f"
      },
      "outputs": [
        {
          "name": "stdout",
          "output_type": "stream",
          "text": [
            "Feature Importance:\n",
            "   Feature  Importance\n",
            "2       cp    0.476051\n",
            "6  thalach    0.228228\n",
            "1      sex    0.125079\n",
            "0      age    0.107777\n",
            "4     chol    0.037550\n",
            "3   trtbps    0.025315\n",
            "5  restecg    0.000000\n"
          ]
        }
      ],
      "source": [
        "#feature importance (consulted ChatGPT with this)\n",
        "feature_importance = pd.DataFrame({\n",
        "    'Feature': X.columns,\n",
        "    'Importance': final_dt.feature_importances_\n",
        "}).sort_values(by='Importance', ascending=False)\n",
        "\n",
        "print(\"Feature Importance:\")\n",
        "print(feature_importance)"
      ]
    },
    {
      "cell_type": "markdown",
      "metadata": {
        "id": "ATcsERpJ2B-I"
      },
      "source": [
        "The variables cp, thalach, sex, and age were the variables that were the most important in this decision tree. Chol, trtbps, and restecg were not as important in this model."
      ]
    },
    {
      "cell_type": "markdown",
      "metadata": {
        "id": "XwWs8-gJjg4b"
      },
      "source": [
        "**Q4: Interpretation**\n",
        "\n",
        "Which predictors were most important to predicting heart attack risk?"
      ]
    },
    {
      "cell_type": "markdown",
      "metadata": {
        "id": "4-f9rqrn8NAN"
      },
      "source": [
        "Across the different models, the predictors that were most important to predicting heart attack risk were maximum heart rate achieved during exercise (thalach), chest pain type (cp), and resting electrocardiographic results (restecg). In the logistic regression and decision tree models, these three were most postiively associated with heart disease risk and were also the most important factors in the decison tree."
      ]
    },
    {
      "cell_type": "markdown",
      "metadata": {
        "id": "_OV3yap8jkG7"
      },
      "source": [
        "**Q5: ROC Curve**\n",
        "\n",
        "Plot the ROC Curve for your three models above."
      ]
    },
    {
      "cell_type": "code",
      "execution_count": 51,
      "metadata": {
        "id": "6py-Dt0Njr5z"
      },
      "outputs": [],
      "source": [
        "from sklearn.metrics import roc_curve, auc\n",
        "import matplotlib.pyplot as plt\n",
        "\n",
        "#probabilities for KNN\n",
        "y_pred_proba_knn = final_knn.predict_proba(X_test_scaled)[:, 1]\n",
        "\n",
        "#FP rate, TP rate, and AUC for KNN\n",
        "fpr_knn, tpr_knn, _ = roc_curve(y_test, y_pred_proba_knn)\n",
        "roc_auc_knn = auc(fpr_knn, tpr_knn)"
      ]
    },
    {
      "cell_type": "code",
      "execution_count": 52,
      "metadata": {
        "id": "mTOtZjPh9Ylb"
      },
      "outputs": [],
      "source": [
        "#probabilities for logistic regression\n",
        "y_pred_proba_log_reg = final_log_reg.predict_proba(X_test_scaled)[:, 1]\n",
        "\n",
        "#FP rate, TP rate, and AUC for Logistic Regression\n",
        "fpr_log_reg, tpr_log_reg, _ = roc_curve(y_test, y_pred_proba_log_reg)\n",
        "roc_auc_log_reg = auc(fpr_log_reg, tpr_log_reg)"
      ]
    },
    {
      "cell_type": "code",
      "execution_count": 53,
      "metadata": {
        "id": "UrftFyIm9jM8"
      },
      "outputs": [],
      "source": [
        "#probabilities for decision tree\n",
        "y_pred_proba_dt = final_dt.predict_proba(X_test)[:, 1]\n",
        "\n",
        "#FP rate, TP rate, and AUC for Decision Tree\n",
        "fpr_dt, tpr_dt, _ = roc_curve(y_test, y_pred_proba_dt)\n",
        "roc_auc_dt = auc(fpr_dt, tpr_dt)"
      ]
    },
    {
      "cell_type": "code",
      "execution_count": 54,
      "metadata": {
        "colab": {
          "base_uri": "https://localhost:8080/",
          "height": 641
        },
        "id": "6oI-dhnb9p4J",
        "outputId": "139b3e4e-8054-4644-ab99-de830348caf2"
      },
      "outputs": [
        {
          "data": {
            "image/png": "[encoded data removed]",
            "text/plain": [
              "<Figure size 1000x700 with 1 Axes>"
            ]
          },
          "metadata": {},
          "output_type": "display_data"
        }
      ],
      "source": [
        "plt.figure(figsize=(10, 7))\n",
        "\n",
        "#ROC for KNN\n",
        "plt.plot(fpr_knn, tpr_knn, label=f'KNN (AUC = {roc_auc_knn:.2f})')\n",
        "\n",
        "#ROC for logistic regression\n",
        "plt.plot(fpr_log_reg, tpr_log_reg, label=f'Logistic Regression (AUC = {roc_auc_log_reg:.2f})')\n",
        "\n",
        "#ROC for decision tree\n",
        "plt.plot(fpr_dt, tpr_dt, label=f'Decision Tree (AUC = {roc_auc_dt:.2f})')\n",
        "\n",
        "#diagonal line for random guessing\n",
        "plt.plot([0, 1], [0, 1], color='gray', linestyle='--')\n",
        "\n",
        "#labels and legend\n",
        "plt.title('ROC Curve Comparison')\n",
        "plt.xlabel('False Positive Rate (FPR)')\n",
        "plt.ylabel('True Positive Rate (TPR)')\n",
        "plt.legend(loc='lower right')\n",
        "plt.grid()\n",
        "plt.show()"
      ]
    },
    {
      "cell_type": "markdown",
      "metadata": {
        "id": "v2ks9vSh98AE"
      },
      "source": [
        "**Part Two: Metrics**\n",
        "\n",
        "Consider the following metrics:\n",
        "\n",
        "  - True Positive Rate or Recall or Sensitivity = Of the observations that are truly Class A, how many were predicted to be Class A?\n",
        "\n",
        "  - Precision or Positive Predictive Value = Of all the observations classified as Class A, how many of them were truly from Class A?\n",
        "\n",
        "  - True Negative Rate or Specificity or Negative Predictive Value = Of all the observations classified as NOT Class A, how many were truly NOT Class A?\n",
        "\n",
        "Compute each of these metrics (cross-validated) for your three models (KNN, Logistic Regression, and Decision Tree) in Part One."
      ]
    },
    {
      "cell_type": "code",
      "execution_count": 60,
      "metadata": {
        "id": "C3lCfnOK_t9p"
      },
      "outputs": [],
      "source": [
        "from sklearn.metrics import confusion_matrix, recall_score, precision_score, make_scorer\n",
        "import numpy as np\n",
        "\n",
        "#used ChatGPT here because I got a ton of warnings when I did it the original way\n",
        "def specificity_score(y_true, y_pred):\n",
        "    #confusion matrix\n",
        "    tn, fp, fn, tp = confusion_matrix(y_true, y_pred).ravel()\n",
        "    return tn / (tn + fp)\n",
        "\n",
        "specificity_scorer = make_scorer(specificity_score)"
      ]
    },
    {
      "cell_type": "code",
      "execution_count": 61,
      "metadata": {
        "colab": {
          "base_uri": "https://localhost:8080/"
        },
        "id": "AQY8Ns5O-dn1",
        "outputId": "996e357e-068d-4f36-e20b-60e52ad9ae2f"
      },
      "outputs": [
        {
          "name": "stdout",
          "output_type": "stream",
          "text": [
            "KNN Metrics:\n",
            "Recall (Sensitivity): 0.89\n",
            "Precision: 0.77\n",
            "Specificity for KNN: 0.69\n"
          ]
        }
      ],
      "source": [
        "#cross-validated recall\n",
        "recall_knn = cross_val_score(final_knn, X_train_scaled, y_train, cv=5, scoring='recall')\n",
        "\n",
        "#cross-validated precision\n",
        "precision_knn = cross_val_score(final_knn, X_train_scaled, y_train, cv=5, scoring='precision')\n",
        "\n",
        "specificity_knn = cross_val_score(final_knn, X_train_scaled, y_train, cv=5, scoring=specificity_scorer)\n",
        "\n",
        "print(f\"KNN Metrics:\")\n",
        "print(f\"Recall (Sensitivity): {np.mean(recall_knn):.2f}\")\n",
        "print(f\"Precision: {np.mean(precision_knn):.2f}\")\n",
        "print(f\"Specificity for KNN: {np.mean(specificity_knn):.2f}\")"
      ]
    },
    {
      "cell_type": "code",
      "execution_count": 63,
      "metadata": {
        "colab": {
          "base_uri": "https://localhost:8080/"
        },
        "id": "RPj3NqZb_aMe",
        "outputId": "fbcf2d5d-142e-40f2-ba2e-b93269231dff"
      },
      "outputs": [
        {
          "name": "stdout",
          "output_type": "stream",
          "text": [
            "Logistic Regression Metrics:\n",
            "Recall (Sensitivity): 0.84\n",
            "Precision: 0.80\n",
            "Specificity: 0.76\n"
          ]
        }
      ],
      "source": [
        "#cross-validated recall\n",
        "recall_log_reg = cross_val_score(final_log_reg, X_train_scaled, y_train, cv=5, scoring='recall')\n",
        "\n",
        "#cross-validated precision\n",
        "precision_log_reg = cross_val_score(final_log_reg, X_train_scaled, y_train, cv=5, scoring='precision')\n",
        "\n",
        "#cross-validated specificity\n",
        "specificity_log_reg = cross_val_score(final_log_reg, X_train_scaled, y_train, cv=5, scoring=specificity_scorer)\n",
        "\n",
        "print(f\"Logistic Regression Metrics:\")\n",
        "print(f\"Recall (Sensitivity): {np.mean(recall_log_reg):.2f}\")\n",
        "print(f\"Precision: {np.mean(precision_log_reg):.2f}\")\n",
        "print(f\"Specificity: {np.mean(specificity_log_reg):.2f}\")"
      ]
    },
    {
      "cell_type": "code",
      "execution_count": 65,
      "metadata": {
        "colab": {
          "base_uri": "https://localhost:8080/"
        },
        "id": "dwioXKXZ_7Mn",
        "outputId": "a7c98dcc-d0f6-4a17-a826-3122407bfd00"
      },
      "outputs": [
        {
          "name": "stdout",
          "output_type": "stream",
          "text": [
            "Decision Tree Metrics:\n",
            "Recall (Sensitivity): 0.75\n",
            "Precision: 0.78\n",
            "Specificity: 0.74\n"
          ]
        }
      ],
      "source": [
        "#cross-validated recall\n",
        "recall_dt = cross_val_score(final_dt, X_train, y_train, cv=5, scoring='recall')\n",
        "\n",
        "#cross-validated precision\n",
        "precision_dt = cross_val_score(final_dt, X_train, y_train, cv=5, scoring='precision')\n",
        "\n",
        "#cross-validated specificity\n",
        "specificity_dt = cross_val_score(final_dt, X_train, y_train, cv=5, scoring=specificity_scorer)\n",
        "\n",
        "print(f\"Decision Tree Metrics:\")\n",
        "print(f\"Recall (Sensitivity): {np.mean(recall_dt):.2f}\")\n",
        "print(f\"Precision: {np.mean(precision_dt):.2f}\")\n",
        "print(f\"Specificity: {np.mean(specificity_dt):.2f}\")"
      ]
    },
    {
      "cell_type": "markdown",
      "metadata": {
        "id": "OdH2I5rQAmQr"
      },
      "source": [
        "**Part Three: Discussion**\n",
        "\n",
        "Suppose you have been hired by a hospital to create classification models for heart attack risk.\n",
        "\n",
        "The following questions give a possible scenario for why the hospital is interested in these models. For each one, discuss:\n",
        "\n",
        "  - Which metric(s) you would use for model selection and why.\n",
        "\n",
        "  - Which of your final models (Part One Q1-3) you would recommend to the hospital, and why.\n",
        "\n",
        "  - What score you should expect for your chosen metric(s) using your chosen model to predict future observations.\n",
        "\n",
        "**Q1**\n",
        "\n",
        "The hospital faces severe lawsuits if they deem a patient to be low risk, and that patient later experiences a heart attack."
      ]
    },
    {
      "cell_type": "markdown",
      "metadata": {
        "id": "YgfI7FEJBWNV"
      },
      "source": [
        "In this scenario, the hospital needs to focus on minimizing the amount of false negatives to avoid the lawsuits, which means they incorrectly identify patients as low risk who later have a heart attack. So, I would use both precision and recall because in this case the proportion of actual high-risk patients becing correctly identified is just as important as the proportion of positive predictions that are correct. If I had to choose one, I would choose recall.\n",
        "\n",
        "Of my three models , I would choose the logistic regression model to recommend to the hospital because it had the highst values of precision and specificity and the second highest value of recall.\n",
        "\n",
        "I would expect a recall score of 84 when predicting future observations, which is the cross-validated recall score I got in Part 2.\n"
      ]
    },
    {
      "cell_type": "markdown",
      "metadata": {
        "id": "bRHlegngAtlF"
      },
      "source": [
        "**Q2**\n",
        "\n",
        "The hospital is overfull, and wants to only use bed space for patients most in need of monitoring due to heart attack risk."
      ]
    },
    {
      "cell_type": "markdown",
      "metadata": {
        "id": "MQpC6WVGFbBW"
      },
      "source": [
        "In this scenario, the hospital needs to focus on accurately identifying patients who truly need monitoring while minimizing the ones they incorrectly label as in need of monitoring. So, I would focus on precision and recall, but if I had to choose one, I'd probably choose to use precision because it would ensure that the hospital uses its bed space efficiently as possible.\n",
        "\n",
        "I would recommend the logistic regression model to the hospital because it has the highest precision score.\n",
        "\n",
        "I would expect a recall score of 80 when predicting future observations, which is the cross-validated precision score I got in Part 2."
      ]
    },
    {
      "cell_type": "markdown",
      "metadata": {
        "id": "PxQ-1oOlAyYB"
      },
      "source": [
        "**Q3**\n",
        "\n",
        "The hospital is studying root causes of heart attacks, and would like to understand which biological measures are associated with heart attack risk."
      ]
    },
    {
      "cell_type": "markdown",
      "metadata": {
        "id": "uYhliQddHIq9"
      },
      "source": [
        "In this scenario, the hospital wants to know which factors are associated with heart attack risk, so the coefficients from the logistic regression coefficients would be the most useful metrics here.\n",
        "\n",
        "With that being said, the logistic regression model would be the most useful here because it shows how each variable is associated with heart attack risk.\n",
        "\n",
        "I would expect the follwoing variables to have similar correlations to heart attack as the coeffecients that follow:  \n",
        "\n",
        "1. thalach     0.281803\n",
        "2. cp     0.249859\n",
        "3. restecg     0.094277\n",
        "4. chol    -0.023176\n",
        "5. trtbps    -0.061657\n",
        "6. age    -0.129045\n",
        "7. sex    -0.220666"
      ]
    },
    {
      "cell_type": "markdown",
      "metadata": {
        "id": "29GNrlfdA1Vy"
      },
      "source": [
        "**Q4**\n",
        "\n",
        "The hospital is training a new batch of doctors, and they would like to compare the diagnoses of these doctors to the predictions given by the algorithm to measure the ability of new doctors to diagnose patients."
      ]
    },
    {
      "cell_type": "markdown",
      "metadata": {
        "id": "NoDsMNDHI7oT"
      },
      "source": [
        "In this scenario, the hospital wants to evaluate the doctors' diagnoses accuracy with the algorithm's predictions, so I would choose to look at a model accuracy metric, such as an F1 score. Since I didn't compute that, I would choose recall because recall in this case reflects the doctors' ability to identify high-risk patients effectively and because missing high-risk patients is probably more dangerous than overpredicting high-risk patients in a hospital.\n",
        "\n",
        "Since the KNN model had the highest recall score, I would choose that model to recommend to the hospital.\n",
        "\n",
        "I would expect a recall score of .89 which is the cross-validated recall score I got in Part 2."
      ]
    },
    {
      "cell_type": "markdown",
      "metadata": {
        "id": "a7ZKR0jmA4YE"
      },
      "source": [
        "**Part Four: Validation**\n",
        "\n",
        "Before sharing the dataset with you, I set aside a random 10% of the observations to serve as a final validation set.\n",
        "\n",
        "ha_validation = pd.read_csv(\"https://www.dropbox.com/s/jkwqdiyx6o6oad0/heart_attack_validation.csv?dl=1\")\n",
        "\n",
        "Use each of your final models in Part One Q1-3, predict the target variable in the validation dataset.\n",
        "\n",
        "For each, output a confusion matrix, and report the ROC AUC, the precision, and the recall.\n",
        "\n",
        "Compare these values to the cross-validated estimates you reported in Part One and Part Two. Did our measure of model success turn out to be approximately correct for the validation data?"
      ]
    },
    {
      "cell_type": "code",
      "execution_count": 67,
      "metadata": {
        "colab": {
          "base_uri": "https://localhost:8080/",
          "height": 206
        },
        "id": "ZsAcd8goLX4M",
        "outputId": "d7297d29-44d3-48e5-caa6-1e067c72a16b"
      },
      "outputs": [
        {
          "data": {
            "application/vnd.google.colaboratory.intrinsic+json": {
              "summary": "{\n  \"name\": \"ha_validation\",\n  \"rows\": 30,\n  \"fields\": [\n    {\n      \"column\": \"age\",\n      \"properties\": {\n        \"dtype\": \"number\",\n        \"std\": 8,\n        \"min\": 40,\n        \"max\": 71,\n        \"num_unique_values\": 23,\n        \"samples\": [\n          50,\n          58,\n          41\n        ],\n        \"semantic_type\": \"\",\n        \"description\": \"\"\n      }\n    },\n    {\n      \"column\": \"sex\",\n      \"properties\": {\n        \"dtype\": \"number\",\n        \"std\": 0,\n        \"min\": 0,\n        \"max\": 1,\n        \"num_unique_values\": 2,\n        \"samples\": [\n          1,\n          0\n        ],\n        \"semantic_type\": \"\",\n        \"description\": \"\"\n      }\n    },\n    {\n      \"column\": \"cp\",\n      \"properties\": {\n        \"dtype\": \"number\",\n        \"std\": 1,\n        \"min\": 0,\n        \"max\": 3,\n        \"num_unique_values\": 4,\n        \"samples\": [\n          3,\n          2\n        ],\n        \"semantic_type\": \"\",\n        \"description\": \"\"\n      }\n    },\n    {\n      \"column\": \"trtbps\",\n      \"properties\": {\n        \"dtype\": \"number\",\n        \"std\": 15,\n        \"min\": 100,\n        \"max\": 160,\n        \"num_unique_values\": 16,\n        \"samples\": [\n          130,\n          110\n        ],\n        \"semantic_type\": \"\",\n        \"description\": \"\"\n      }\n    },\n    {\n      \"column\": \"chol\",\n      \"properties\": {\n        \"dtype\": \"number\",\n        \"std\": 44,\n        \"min\": 131,\n        \"max\": 330,\n        \"num_unique_values\": 28,\n        \"samples\": [\n          240,\n          309\n        ],\n        \"semantic_type\": \"\",\n        \"description\": \"\"\n      }\n    },\n    {\n      \"column\": \"restecg\",\n      \"properties\": {\n        \"dtype\": \"number\",\n        \"std\": 0,\n        \"min\": 0,\n        \"max\": 1,\n        \"num_unique_values\": 2,\n        \"samples\": [\n          1,\n          0\n        ],\n        \"semantic_type\": \"\",\n        \"description\": \"\"\n      }\n    },\n    {\n      \"column\": \"thalach\",\n      \"properties\": {\n        \"dtype\": \"number\",\n        \"std\": 19,\n        \"min\": 111,\n        \"max\": 182,\n        \"num_unique_values\": 27,\n        \"samples\": [\n          151,\n          162\n        ],\n        \"semantic_type\": \"\",\n        \"description\": \"\"\n      }\n    },\n    {\n      \"column\": \"output\",\n      \"properties\": {\n        \"dtype\": \"number\",\n        \"std\": 0,\n        \"min\": 0,\n        \"max\": 1,\n        \"num_unique_values\": 2,\n        \"samples\": [\n          0,\n          1\n        ],\n        \"semantic_type\": \"\",\n        \"description\": \"\"\n      }\n    }\n  ]\n}",
              "type": "dataframe",
              "variable_name": "ha_validation"
            },
            "text/html": [
              "\n",
              "  <div id=\"df-221909cb-04df-45ac-bd2c-f505679f75fe\" class=\"colab-df-container\">\n",
              "    <div>\n",
              "<style scoped>\n",
              "    .dataframe tbody tr th:only-of-type {\n",
              "        vertical-align: middle;\n",
              "    }\n",
              "\n",
              "    .dataframe tbody tr th {\n",
              "        vertical-align: top;\n",
              "    }\n",
              "\n",
              "    .dataframe thead th {\n",
              "        text-align: right;\n",
              "    }\n",
              "</style>\n",
              "<table border=\"1\" class=\"dataframe\">\n",
              "  <thead>\n",
              "    <tr style=\"text-align: right;\">\n",
              "      <th></th>\n",
              "      <th>age</th>\n",
              "      <th>sex</th>\n",
              "      <th>cp</th>\n",
              "      <th>trtbps</th>\n",
              "      <th>chol</th>\n",
              "      <th>restecg</th>\n",
              "      <th>thalach</th>\n",
              "      <th>output</th>\n",
              "    </tr>\n",
              "  </thead>\n",
              "  <tbody>\n",
              "    <tr>\n",
              "      <th>0</th>\n",
              "      <td>41</td>\n",
              "      <td>0</td>\n",
              "      <td>1</td>\n",
              "      <td>130</td>\n",
              "      <td>204</td>\n",
              "      <td>0</td>\n",
              "      <td>172</td>\n",
              "      <td>1</td>\n",
              "    </tr>\n",
              "    <tr>\n",
              "      <th>1</th>\n",
              "      <td>64</td>\n",
              "      <td>1</td>\n",
              "      <td>3</td>\n",
              "      <td>110</td>\n",
              "      <td>211</td>\n",
              "      <td>0</td>\n",
              "      <td>144</td>\n",
              "      <td>1</td>\n",
              "    </tr>\n",
              "    <tr>\n",
              "      <th>2</th>\n",
              "      <td>59</td>\n",
              "      <td>1</td>\n",
              "      <td>0</td>\n",
              "      <td>135</td>\n",
              "      <td>234</td>\n",
              "      <td>1</td>\n",
              "      <td>161</td>\n",
              "      <td>1</td>\n",
              "    </tr>\n",
              "    <tr>\n",
              "      <th>3</th>\n",
              "      <td>42</td>\n",
              "      <td>1</td>\n",
              "      <td>0</td>\n",
              "      <td>140</td>\n",
              "      <td>226</td>\n",
              "      <td>1</td>\n",
              "      <td>178</td>\n",
              "      <td>1</td>\n",
              "    </tr>\n",
              "    <tr>\n",
              "      <th>4</th>\n",
              "      <td>40</td>\n",
              "      <td>1</td>\n",
              "      <td>3</td>\n",
              "      <td>140</td>\n",
              "      <td>199</td>\n",
              "      <td>1</td>\n",
              "      <td>178</td>\n",
              "      <td>1</td>\n",
              "    </tr>\n",
              "  </tbody>\n",
              "</table>\n",
              "</div>\n",
              "    <div class=\"colab-df-buttons\">\n",
              "\n",
              "  <div class=\"colab-df-container\">\n",
              "    <button class=\"colab-df-convert\" onclick=\"convertToInteractive('df-221909cb-04df-45ac-bd2c-f505679f75fe')\"\n",
              "            title=\"Convert this dataframe to an interactive table.\"\n",
              "            style=\"display:none;\">\n",
              "\n",
              "  <svg xmlns=\"http://www.w3.org/2000/svg\" height=\"24px\" viewBox=\"0 -960 960 960\">\n",
              "    <path d=\"M120-120v-720h720v720H120Zm60-500h600v-160H180v160Zm220 220h160v-160H400v160Zm0 220h160v-160H400v160ZM180-400h160v-160H180v160Zm440 0h160v-160H620v160ZM180-180h160v-160H180v160Zm440 0h160v-160H620v160Z\"/>\n",
              "  </svg>\n",
              "    </button>\n",
              "\n",
              "  <style>\n",
              "    .colab-df-container {\n",
              "      display:flex;\n",
              "      gap: 12px;\n",
              "    }\n",
              "\n",
              "    .colab-df-convert {\n",
              "      background-color: #E8F0FE;\n",
              "      border: none;\n",
              "      border-radius: 50%;\n",
              "      cursor: pointer;\n",
              "      display: none;\n",
              "      fill: #1967D2;\n",
              "      height: 32px;\n",
              "      padding: 0 0 0 0;\n",
              "      width: 32px;\n",
              "    }\n",
              "\n",
              "    .colab-df-convert:hover {\n",
              "      background-color: #E2EBFA;\n",
              "      box-shadow: 0px 1px 2px rgba(60, 64, 67, 0.3), 0px 1px 3px 1px rgba(60, 64, 67, 0.15);\n",
              "      fill: #174EA6;\n",
              "    }\n",
              "\n",
              "    .colab-df-buttons div {\n",
              "      margin-bottom: 4px;\n",
              "    }\n",
              "\n",
              "    [theme=dark] .colab-df-convert {\n",
              "      background-color: #3B4455;\n",
              "      fill: #D2E3FC;\n",
              "    }\n",
              "\n",
              "    [theme=dark] .colab-df-convert:hover {\n",
              "      background-color: #434B5C;\n",
              "      box-shadow: 0px 1px 3px 1px rgba(0, 0, 0, 0.15);\n",
              "      filter: drop-shadow(0px 1px 2px rgba(0, 0, 0, 0.3));\n",
              "      fill: #FFFFFF;\n",
              "    }\n",
              "  </style>\n",
              "\n",
              "    <script>\n",
              "      const buttonEl =\n",
              "        document.querySelector('#df-221909cb-04df-45ac-bd2c-f505679f75fe button.colab-df-convert');\n",
              "      buttonEl.style.display =\n",
              "        google.colab.kernel.accessAllowed ? 'block' : 'none';\n",
              "\n",
              "      async function convertToInteractive(key) {\n",
              "        const element = document.querySelector('#df-221909cb-04df-45ac-bd2c-f505679f75fe');\n",
              "        const dataTable =\n",
              "          await google.colab.kernel.invokeFunction('convertToInteractive',\n",
              "                                                    [key], {});\n",
              "        if (!dataTable) return;\n",
              "\n",
              "        const docLinkHtml = 'Like what you see? Visit the ' +\n",
              "          '<a target=\"_blank\" href=https://colab.research.google.com/notebooks/data_table.ipynb>data table notebook</a>'\n",
              "          + ' to learn more about interactive tables.';\n",
              "        element.innerHTML = '';\n",
              "        dataTable['output_type'] = 'display_data';\n",
              "        await google.colab.output.renderOutput(dataTable, element);\n",
              "        const docLink = document.createElement('div');\n",
              "        docLink.innerHTML = docLinkHtml;\n",
              "        element.appendChild(docLink);\n",
              "      }\n",
              "    </script>\n",
              "  </div>\n",
              "\n",
              "\n",
              "<div id=\"df-62825a49-6141-4650-b4d9-2a01e9b86ee7\">\n",
              "  <button class=\"colab-df-quickchart\" onclick=\"quickchart('df-62825a49-6141-4650-b4d9-2a01e9b86ee7')\"\n",
              "            title=\"Suggest charts\"\n",
              "            style=\"display:none;\">\n",
              "\n",
              "<svg xmlns=\"http://www.w3.org/2000/svg\" height=\"24px\"viewBox=\"0 0 24 24\"\n",
              "     width=\"24px\">\n",
              "    <g>\n",
              "        <path d=\"M19 3H5c-1.1 0-2 .9-2 2v14c0 1.1.9 2 2 2h14c1.1 0 2-.9 2-2V5c0-1.1-.9-2-2-2zM9 17H7v-7h2v7zm4 0h-2V7h2v10zm4 0h-2v-4h2v4z\"/>\n",
              "    </g>\n",
              "</svg>\n",
              "  </button>\n",
              "\n",
              "<style>\n",
              "  .colab-df-quickchart {\n",
              "      --bg-color: #E8F0FE;\n",
              "      --fill-color: #1967D2;\n",
              "      --hover-bg-color: #E2EBFA;\n",
              "      --hover-fill-color: #174EA6;\n",
              "      --disabled-fill-color: #AAA;\n",
              "      --disabled-bg-color: #DDD;\n",
              "  }\n",
              "\n",
              "  [theme=dark] .colab-df-quickchart {\n",
              "      --bg-color: #3B4455;\n",
              "      --fill-color: #D2E3FC;\n",
              "      --hover-bg-color: #434B5C;\n",
              "      --hover-fill-color: #FFFFFF;\n",
              "      --disabled-bg-color: #3B4455;\n",
              "      --disabled-fill-color: #666;\n",
              "  }\n",
              "\n",
              "  .colab-df-quickchart {\n",
              "    background-color: var(--bg-color);\n",
              "    border: none;\n",
              "    border-radius: 50%;\n",
              "    cursor: pointer;\n",
              "    display: none;\n",
              "    fill: var(--fill-color);\n",
              "    height: 32px;\n",
              "    padding: 0;\n",
              "    width: 32px;\n",
              "  }\n",
              "\n",
              "  .colab-df-quickchart:hover {\n",
              "    background-color: var(--hover-bg-color);\n",
              "    box-shadow: 0 1px 2px rgba(60, 64, 67, 0.3), 0 1px 3px 1px rgba(60, 64, 67, 0.15);\n",
              "    fill: var(--button-hover-fill-color);\n",
              "  }\n",
              "\n",
              "  .colab-df-quickchart-complete:disabled,\n",
              "  .colab-df-quickchart-complete:disabled:hover {\n",
              "    background-color: var(--disabled-bg-color);\n",
              "    fill: var(--disabled-fill-color);\n",
              "    box-shadow: none;\n",
              "  }\n",
              "\n",
              "  .colab-df-spinner {\n",
              "    border: 2px solid var(--fill-color);\n",
              "    border-color: transparent;\n",
              "    border-bottom-color: var(--fill-color);\n",
              "    animation:\n",
              "      spin 1s steps(1) infinite;\n",
              "  }\n",
              "\n",
              "  @keyframes spin {\n",
              "    0% {\n",
              "      border-color: transparent;\n",
              "      border-bottom-color: var(--fill-color);\n",
              "      border-left-color: var(--fill-color);\n",
              "    }\n",
              "    20% {\n",
              "      border-color: transparent;\n",
              "      border-left-color: var(--fill-color);\n",
              "      border-top-color: var(--fill-color);\n",
              "    }\n",
              "    30% {\n",
              "      border-color: transparent;\n",
              "      border-left-color: var(--fill-color);\n",
              "      border-top-color: var(--fill-color);\n",
              "      border-right-color: var(--fill-color);\n",
              "    }\n",
              "    40% {\n",
              "      border-color: transparent;\n",
              "      border-right-color: var(--fill-color);\n",
              "      border-top-color: var(--fill-color);\n",
              "    }\n",
              "    60% {\n",
              "      border-color: transparent;\n",
              "      border-right-color: var(--fill-color);\n",
              "    }\n",
              "    80% {\n",
              "      border-color: transparent;\n",
              "      border-right-color: var(--fill-color);\n",
              "      border-bottom-color: var(--fill-color);\n",
              "    }\n",
              "    90% {\n",
              "      border-color: transparent;\n",
              "      border-bottom-color: var(--fill-color);\n",
              "    }\n",
              "  }\n",
              "</style>\n",
              "\n",
              "  <script>\n",
              "    async function quickchart(key) {\n",
              "      const quickchartButtonEl =\n",
              "        document.querySelector('#' + key + ' button');\n",
              "      quickchartButtonEl.disabled = true;  // To prevent multiple clicks.\n",
              "      quickchartButtonEl.classList.add('colab-df-spinner');\n",
              "      try {\n",
              "        const charts = await google.colab.kernel.invokeFunction(\n",
              "            'suggestCharts', [key], {});\n",
              "      } catch (error) {\n",
              "        console.error('Error during call to suggestCharts:', error);\n",
              "      }\n",
              "      quickchartButtonEl.classList.remove('colab-df-spinner');\n",
              "      quickchartButtonEl.classList.add('colab-df-quickchart-complete');\n",
              "    }\n",
              "    (() => {\n",
              "      let quickchartButtonEl =\n",
              "        document.querySelector('#df-62825a49-6141-4650-b4d9-2a01e9b86ee7 button');\n",
              "      quickchartButtonEl.style.display =\n",
              "        google.colab.kernel.accessAllowed ? 'block' : 'none';\n",
              "    })();\n",
              "  </script>\n",
              "</div>\n",
              "\n",
              "    </div>\n",
              "  </div>\n"
            ],
            "text/plain": [
              "   age  sex  cp  trtbps  chol  restecg  thalach  output\n",
              "0   41    0   1     130   204        0      172       1\n",
              "1   64    1   3     110   211        0      144       1\n",
              "2   59    1   0     135   234        1      161       1\n",
              "3   42    1   0     140   226        1      178       1\n",
              "4   40    1   3     140   199        1      178       1"
            ]
          },
          "execution_count": 67,
          "metadata": {},
          "output_type": "execute_result"
        }
      ],
      "source": [
        "ha_validation = pd.read_csv(\"https://www.dropbox.com/s/jkwqdiyx6o6oad0/heart_attack_validation.csv?dl=1\")\n",
        "ha_validation.head()"
      ]
    },
    {
      "cell_type": "code",
      "execution_count": 69,
      "metadata": {
        "id": "bQ_PbiqzL9nJ"
      },
      "outputs": [],
      "source": [
        "X_validation = ha_validation.drop(columns=['output'])\n",
        "y_validation = ha_validation['output']\n",
        "\n",
        "#standardizing\n",
        "X_validation_scaled = scaler.transform(X_validation)  #reusing scaler from part 1"
      ]
    },
    {
      "cell_type": "code",
      "execution_count": 70,
      "metadata": {
        "colab": {
          "base_uri": "https://localhost:8080/"
        },
        "id": "KLqkye8yMHgU",
        "outputId": "1aafd087-8f19-4d54-fbf9-540fb327f4d7"
      },
      "outputs": [
        {
          "name": "stdout",
          "output_type": "stream",
          "text": [
            "KNN Confusion Matrix:\n",
            "[[ 9  2]\n",
            " [ 5 14]]\n",
            "KNN Validation Metrics:\n",
            "ROC AUC: 0.94\n",
            "Precision: 0.88\n",
            "Recall: 0.74\n"
          ]
        }
      ],
      "source": [
        "#KNN\n",
        "y_pred_knn = final_knn.predict(X_validation_scaled)\n",
        "y_pred_proba_knn = final_knn.predict_proba(X_validation_scaled)[:, 1]\n",
        "\n",
        "#confusion matrix\n",
        "conf_matrix_knn = confusion_matrix(y_validation, y_pred_knn)\n",
        "print(\"KNN Confusion Matrix:\")\n",
        "print(conf_matrix_knn)\n",
        "\n",
        "#metrics\n",
        "roc_auc_knn = roc_auc_score(y_validation, y_pred_proba_knn)\n",
        "precision_knn = precision_score(y_validation, y_pred_knn)\n",
        "recall_knn = recall_score(y_validation, y_pred_knn)\n",
        "\n",
        "print(f\"KNN Validation Metrics:\")\n",
        "print(f\"ROC AUC: {roc_auc_knn:.2f}\")\n",
        "print(f\"Precision: {precision_knn:.2f}\")\n",
        "print(f\"Recall: {recall_knn:.2f}\")"
      ]
    },
    {
      "cell_type": "code",
      "execution_count": 71,
      "metadata": {
        "colab": {
          "base_uri": "https://localhost:8080/"
        },
        "id": "6UPWiQK5MM7o",
        "outputId": "66b60c50-3dd2-443c-e33c-dfa3a5b82b68"
      },
      "outputs": [
        {
          "name": "stdout",
          "output_type": "stream",
          "text": [
            "Logistic Regression Confusion Matrix:\n",
            "[[10  1]\n",
            " [ 4 15]]\n",
            "Logistic Regression Validation Metrics:\n",
            "ROC AUC: 0.92\n",
            "Precision: 0.94\n",
            "Recall: 0.79\n"
          ]
        }
      ],
      "source": [
        "#logistic regression\n",
        "y_pred_log_reg = final_log_reg.predict(X_validation_scaled)\n",
        "y_pred_proba_log_reg = final_log_reg.predict_proba(X_validation_scaled)[:, 1]\n",
        "\n",
        "#confusion matrix\n",
        "conf_matrix_log_reg = confusion_matrix(y_validation, y_pred_log_reg)\n",
        "print(\"Logistic Regression Confusion Matrix:\")\n",
        "print(conf_matrix_log_reg)\n",
        "\n",
        "#metrics\n",
        "roc_auc_log_reg = roc_auc_score(y_validation, y_pred_proba_log_reg)\n",
        "precision_log_reg = precision_score(y_validation, y_pred_log_reg)\n",
        "recall_log_reg = recall_score(y_validation, y_pred_log_reg)\n",
        "\n",
        "print(f\"Logistic Regression Validation Metrics:\")\n",
        "print(f\"ROC AUC: {roc_auc_log_reg:.2f}\")\n",
        "print(f\"Precision: {precision_log_reg:.2f}\")\n",
        "print(f\"Recall: {recall_log_reg:.2f}\")"
      ]
    },
    {
      "cell_type": "code",
      "execution_count": 72,
      "metadata": {
        "colab": {
          "base_uri": "https://localhost:8080/"
        },
        "id": "kXnKrDurMTwe",
        "outputId": "22229283-826b-4d7a-9787-c03c5c4ef9f6"
      },
      "outputs": [
        {
          "name": "stdout",
          "output_type": "stream",
          "text": [
            "Decision Tree Confusion Matrix:\n",
            "[[ 9  2]\n",
            " [ 5 14]]\n",
            "Decision Tree Validation Metrics:\n",
            "ROC AUC: 0.85\n",
            "Precision: 0.88\n",
            "Recall: 0.74\n"
          ]
        }
      ],
      "source": [
        "#decision tree\n",
        "y_pred_dt = final_dt.predict(X_validation)\n",
        "y_pred_proba_dt = final_dt.predict_proba(X_validation)[:, 1]\n",
        "\n",
        "#confusion matrix\n",
        "conf_matrix_dt = confusion_matrix(y_validation, y_pred_dt)\n",
        "print(\"Decision Tree Confusion Matrix:\")\n",
        "print(conf_matrix_dt)\n",
        "\n",
        "#metrics\n",
        "roc_auc_dt = roc_auc_score(y_validation, y_pred_proba_dt)\n",
        "precision_dt = precision_score(y_validation, y_pred_dt)\n",
        "recall_dt = recall_score(y_validation, y_pred_dt)\n",
        "\n",
        "print(f\"Decision Tree Validation Metrics:\")\n",
        "print(f\"ROC AUC: {roc_auc_dt:.2f}\")\n",
        "print(f\"Precision: {precision_dt:.2f}\")\n",
        "print(f\"Recall: {recall_dt:.2f}\")"
      ]
    },
    {
      "cell_type": "markdown",
      "metadata": {
        "id": "26vW6ZGaNkmT"
      },
      "source": [
        "I would say that the measures of model success from cross-validation were approximately correct for the validation data. The ROC AUC values were higher, precision improved significantly, and recall was slightly lower, but overall it did well."
      ]
    },
    {
      "cell_type": "markdown",
      "metadata": {
        "id": "hSzIzqXFA_fI"
      },
      "source": [
        "**Part Five: Cohen’s Kappa**\n",
        "\n",
        "Another common metric used in classification is Cohen’s Kappa.\n",
        "\n",
        "Use online resources to research this measurement. Calculate it for the models from Part One, Q1-3, and discuss reasons or scenarios that would make us prefer to use this metric as our measure of model success. Do your conclusions from above change if you judge your models using Cohen’s Kappa instead? Does this make sense?"
      ]
    },
    {
      "cell_type": "markdown",
      "metadata": {
        "id": "DIHV-PpSPVLV"
      },
      "source": [
        "https://datatab.net/tutorial/cohens-kappa"
      ]
    },
    {
      "cell_type": "code",
      "execution_count": 73,
      "metadata": {
        "colab": {
          "base_uri": "https://localhost:8080/"
        },
        "id": "dE58ni5SPC9H",
        "outputId": "9d6f0cb1-e66b-41fd-bee3-bf4406941afa"
      },
      "outputs": [
        {
          "name": "stdout",
          "output_type": "stream",
          "text": [
            "KNN Cohen's Kappa: 0.16\n",
            "Logistic Regression Cohen's Kappa: 0.45\n",
            "Decision Tree Cohen's Kappa: 0.38\n"
          ]
        }
      ],
      "source": [
        "from sklearn.metrics import cohen_kappa_score\n",
        "\n",
        "# KNN\n",
        "kappa_knn = cohen_kappa_score(y_test, final_knn.predict(X_test_scaled))\n",
        "print(f\"KNN Cohen's Kappa: {kappa_knn:.2f}\")\n",
        "\n",
        "# Logistic Regression\n",
        "kappa_log_reg = cohen_kappa_score(y_test, final_log_reg.predict(X_test_scaled))\n",
        "print(f\"Logistic Regression Cohen's Kappa: {kappa_log_reg:.2f}\")\n",
        "\n",
        "# Decision Tree\n",
        "kappa_dt = cohen_kappa_score(y_test, final_dt.predict(X_test))\n",
        "print(f\"Decision Tree Cohen's Kappa: {kappa_dt:.2f}\")"
      ]
    },
    {
      "cell_type": "markdown",
      "metadata": {
        "id": "BSrEcvCnQIPd"
      },
      "source": [
        "Cohen's Kappa evaluates overall agreement and considers both positive and negative cases, unlike other metrics such as accurary which can be inflated in ways. Cohen's Kappa is useful in situations where decisions are subjective and and the categories are nominal, such as assessments of two doctors on a patient. The logistic regression model has the best Cohen's Kappa (.45) which indicates that there is better agreement with true labels compared to the KNN and Decision Tree models, so that conclusion does not change. Also, the KNN model had the worst Cohen's Kappa of 0.16, suggesting that it lacks robustness (for lack of a better word). I believe this makes sense because Cohen's Kappa tends to highlight the generalization abilities of models across both classes which is why KNN had the lowest score and logistic regression had the highest.\n",
        "\n",
        "\n"
      ]
    }
  ],
  "metadata": {
    "colab": {
      "provenance": []
    },
    "kernelspec": {
      "display_name": "Python 3",
      "name": "python3"
    },
    "language_info": {
      "name": "python"
    }
  },
  "nbformat": 4,
  "nbformat_minor": 0
}
