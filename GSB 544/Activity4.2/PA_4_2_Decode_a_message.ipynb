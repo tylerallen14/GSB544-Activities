{
  "cells": [
    {
      "cell_type": "markdown",
      "metadata": {
        "id": "kPj76X_FP2uq"
      },
      "source": [
        "## Setup\n",
        "\n",
        "Run the code below to load the scrambled message:\n"
      ]
    },
    {
      "cell_type": "code",
      "metadata": {
        "id": "YwkYMR2qP2ur"
      },
      "source": [
        "import pandas as pd\n",
        "\n",
        "message = pd.read_csv(\"https://www.dropbox.com/s/lgpn3vmksk3ssdo/scrambled_message.txt?dl=1\")['Word']"
      ],
      "execution_count": 1,
      "outputs": []
    },
    {
      "cell_type": "code",
      "source": [
        "message"
      ],
      "metadata": {
        "id": "rqykaCOxF1Z9",
        "outputId": "8e2b73a0-231a-4d58-bd2f-5b0fbedc8b41",
        "colab": {
          "base_uri": "https://localhost:8080/",
          "height": 458
        }
      },
      "execution_count": 2,
      "outputs": [
        {
          "output_type": "execute_result",
          "data": {
            "text/plain": [
              "0                    Koila!\n",
              "1                     In   \n",
              "2                     kiew,\n",
              "3                         a\n",
              "4                 humble   \n",
              "               ...         \n",
              "122                     you\n",
              "123                 mabugh.\n",
              "124              ughhh?call\n",
              "125        meugh.ughhhh!   \n",
              "126                      K.\n",
              "Name: Word, Length: 127, dtype: object"
            ],
            "text/html": [
              "<div>\n",
              "<style scoped>\n",
              "    .dataframe tbody tr th:only-of-type {\n",
              "        vertical-align: middle;\n",
              "    }\n",
              "\n",
              "    .dataframe tbody tr th {\n",
              "        vertical-align: top;\n",
              "    }\n",
              "\n",
              "    .dataframe thead th {\n",
              "        text-align: right;\n",
              "    }\n",
              "</style>\n",
              "<table border=\"1\" class=\"dataframe\">\n",
              "  <thead>\n",
              "    <tr style=\"text-align: right;\">\n",
              "      <th></th>\n",
              "      <th>Word</th>\n",
              "    </tr>\n",
              "  </thead>\n",
              "  <tbody>\n",
              "    <tr>\n",
              "      <th>0</th>\n",
              "      <td>Koila!</td>\n",
              "    </tr>\n",
              "    <tr>\n",
              "      <th>1</th>\n",
              "      <td>In</td>\n",
              "    </tr>\n",
              "    <tr>\n",
              "      <th>2</th>\n",
              "      <td>kiew,</td>\n",
              "    </tr>\n",
              "    <tr>\n",
              "      <th>3</th>\n",
              "      <td>a</td>\n",
              "    </tr>\n",
              "    <tr>\n",
              "      <th>4</th>\n",
              "      <td>humble</td>\n",
              "    </tr>\n",
              "    <tr>\n",
              "      <th>...</th>\n",
              "      <td>...</td>\n",
              "    </tr>\n",
              "    <tr>\n",
              "      <th>122</th>\n",
              "      <td>you</td>\n",
              "    </tr>\n",
              "    <tr>\n",
              "      <th>123</th>\n",
              "      <td>mabugh.</td>\n",
              "    </tr>\n",
              "    <tr>\n",
              "      <th>124</th>\n",
              "      <td>ughhh?call</td>\n",
              "    </tr>\n",
              "    <tr>\n",
              "      <th>125</th>\n",
              "      <td>meugh.ughhhh!</td>\n",
              "    </tr>\n",
              "    <tr>\n",
              "      <th>126</th>\n",
              "      <td>K.</td>\n",
              "    </tr>\n",
              "  </tbody>\n",
              "</table>\n",
              "<p>127 rows × 1 columns</p>\n",
              "</div><br><label><b>dtype:</b> object</label>"
            ]
          },
          "metadata": {},
          "execution_count": 2
        }
      ]
    },
    {
      "cell_type": "markdown",
      "metadata": {
        "id": "cI8ZE3LAP2us"
      },
      "source": [
        "In this activity, a \"word\" refers to any set of characters with no white space, even though they are not truly an English word.  That is, even though many of elements of the scrambled message vector are nonsense, and some have punctuation, you can consider each element to be a \"word\".\n",
        "\n",
        "Beware!  The object named `message` is a **pandas Series** of strings.  If you want to use functions that expect a string, rather than a series, remember `.apply()` and `lambda` functions.\n",
        "\n"
      ]
    },
    {
      "cell_type": "markdown",
      "source": [
        "\n",
        "## Warm-up exercises\n",
        "\n",
        "1. How many characters are in the scrambled message?\n",
        "2. How many of these characters are white space?\n",
        "3. How many words are in the scrambled message?\n",
        "4. Show all the punctuation marks in the scrambled message.\n",
        "5. Print out, in all capitals, the longest word in the scrambled message.\n",
        "6. Print out every piece of a word that starts with the letter \"m\" and ends with the letter \"z\" in the scrambled message."
      ],
      "metadata": {
        "id": "dYISAD8uQLAy"
      }
    },
    {
      "cell_type": "code",
      "source": [
        "#1\n",
        "total_characters = message.apply(len).sum()\n",
        "total_characters"
      ],
      "metadata": {
        "id": "6vB1tbjiQNvE",
        "colab": {
          "base_uri": "https://localhost:8080/"
        },
        "outputId": "ef060534-8343-477f-c0f5-67ed1b4e95e3"
      },
      "execution_count": 3,
      "outputs": [
        {
          "output_type": "execute_result",
          "data": {
            "text/plain": [
              "2544"
            ]
          },
          "metadata": {},
          "execution_count": 3
        }
      ]
    },
    {
      "cell_type": "code",
      "source": [
        "#2\n",
        "whitespace_count = message.apply(lambda word: word.count(' ')).sum()\n",
        "whitespace_count"
      ],
      "metadata": {
        "colab": {
          "base_uri": "https://localhost:8080/"
        },
        "id": "z7SbEPE6dGYI",
        "outputId": "0480a1d5-7364-4938-ed07-cbb9346b4ec7"
      },
      "execution_count": 4,
      "outputs": [
        {
          "output_type": "execute_result",
          "data": {
            "text/plain": [
              "1652"
            ]
          },
          "metadata": {},
          "execution_count": 4
        }
      ]
    },
    {
      "cell_type": "code",
      "source": [
        "#3\n",
        "word_count = len(message)\n",
        "word_count"
      ],
      "metadata": {
        "colab": {
          "base_uri": "https://localhost:8080/"
        },
        "id": "yLd7wW16dHDk",
        "outputId": "dcef333b-a96e-46d3-ca9e-314a972de57d"
      },
      "execution_count": 5,
      "outputs": [
        {
          "output_type": "execute_result",
          "data": {
            "text/plain": [
              "127"
            ]
          },
          "metadata": {},
          "execution_count": 5
        }
      ]
    },
    {
      "cell_type": "code",
      "source": [
        "#4\n",
        "import re\n",
        "punctuation_marks = message.apply(lambda word: re.findall(r'[^\\w\\s]', word))\n",
        "#used ChatGPT for help with this part\n",
        "unique_punctuation = set([p for sublist in punctuation_marks for p in sublist])\n",
        "print(unique_punctuation)\n"
      ],
      "metadata": {
        "colab": {
          "base_uri": "https://localhost:8080/"
        },
        "id": "2tbTTZWZdHtE",
        "outputId": "768507cb-f808-404e-ec02-e4f315749339"
      },
      "execution_count": 8,
      "outputs": [
        {
          "output_type": "stream",
          "name": "stdout",
          "text": [
            "{'?', '!', ';', ',', '.'}\n"
          ]
        }
      ]
    },
    {
      "cell_type": "code",
      "source": [
        "#5\n",
        "#ChatGPT helped me with this part too (idxmax())\n",
        "longest_word = message.apply(len).idxmax()\n",
        "longest_word_in_caps = message[longest_word].upper()\n",
        "longest_word_in_caps"
      ],
      "metadata": {
        "colab": {
          "base_uri": "https://localhost:8080/",
          "height": 35
        },
        "id": "pSP_pcS3dIdR",
        "outputId": "c57fbfe0-81a1-497a-8072-5df1e0b1377d"
      },
      "execution_count": 9,
      "outputs": [
        {
          "output_type": "execute_result",
          "data": {
            "text/plain": [
              "'KAUDEVILLIANUGH?AOGHAJDBN'"
            ],
            "application/vnd.google.colaboratory.intrinsic+json": {
              "type": "string"
            }
          },
          "metadata": {},
          "execution_count": 9
        }
      ]
    },
    {
      "cell_type": "code",
      "source": [
        "#6\n",
        "#split each word by punctuation marks and then check if any pieces start with 'm' and end with 'z'\n",
        "matching_words_with_split = message.apply(lambda word: re.findall(r'\\bm\\w*z\\b', re.sub(r'[^\\w\\s]', ' ', word)))\n",
        "matching_words_list = [word for sublist in matching_words_with_split for word in sublist]\n",
        "matching_words_list\n"
      ],
      "metadata": {
        "colab": {
          "base_uri": "https://localhost:8080/"
        },
        "id": "CoAkdhgYdJLp",
        "outputId": "ca1a166d-0682-4e75-ff7c-a4f8bd613f7b"
      },
      "execution_count": 12,
      "outputs": [
        {
          "output_type": "execute_result",
          "data": {
            "text/plain": [
              "['maaz']"
            ]
          },
          "metadata": {},
          "execution_count": 12
        }
      ]
    },
    {
      "cell_type": "markdown",
      "source": [
        "\n",
        "\n",
        "## Decode a message\n",
        "\n",
        "Complete the following steps to decode the message.  \n",
        "\n",
        "1. Remove any spaces before or after each word.\n",
        "2. Any time you see the word \"ugh\", with any number of h's, followed by a punctuation mark, delete this.\n",
        "3. No word should be longer than 16 characters. Drop all extra characters beyond 13 off the end of each word.\n",
        "4. Replace all instances of exactly 2 a's with exactly 2 e's.\n",
        "5. Replace all z's with t's.\n",
        "6. Every word that ends in b, change that to a y.  *Hint: look out for punctuation!*\n",
        "7. Every word that starts with k, change that to a v.  *Hint: look out for capitalization!*\n",
        "8. Use `.join()` to recombine all your words into a message.\n",
        "9. Find the movie this quote is from."
      ],
      "metadata": {
        "id": "l3iJnnCJQOh7"
      }
    },
    {
      "cell_type": "code",
      "source": [
        "#1\n",
        "message_cleaned = message.apply(lambda word: word.strip())\n",
        "\n",
        "#2\n",
        "message_cleaned = message_cleaned.apply(lambda word: re.sub(r'ugh+h+[.,!?;]', '', word))\n",
        "\n",
        "#3\n",
        "message_cleaned = message_cleaned.apply(lambda word: word[:13] if len(word) > 16 else word)\n",
        "\n",
        "#4\n",
        "message_cleaned = message_cleaned.apply(lambda word: re.sub(r'aa', 'ee', word))\n",
        "\n",
        "#5\n",
        "message_cleaned = message_cleaned.apply(lambda word: word.replace('z', 't'))\n",
        "\n",
        "#6\n",
        "message_cleaned = message_cleaned.apply(lambda word: re.sub(r'b\\b', 'y', word))\n",
        "\n",
        "#7\n",
        "message_cleaned = message_cleaned.apply(lambda word: re.sub(r'\\bK', 'V', word)).apply(lambda word: re.sub(r'\\bk', 'v', word))\n",
        "\n",
        "#8\n",
        "decoded_message = ' '.join(message_cleaned)\n",
        "\n",
        "decoded_message\n"
      ],
      "metadata": {
        "id": "RRfjUzxMQQ5j",
        "colab": {
          "base_uri": "https://localhost:8080/",
          "height": 87
        },
        "outputId": "21d8d670-4e0c-43b4-8037-cb768ca5a01e"
      },
      "execution_count": 16,
      "outputs": [
        {
          "output_type": "execute_result",
          "data": {
            "text/plain": [
              "'Voila! In view, a humble vaudevillianu veteran, cast vicariously as both victim and villain by the vicissitudes of fate. This visage, no mereugh? veneer ofugh? vanity, is a vestige of the vox populi now vacant, vanished.ugh? However, this valorous visitation of a bygone vexation stands vivified, and hasugh. vowed to vanquish these venalugh? and virulent vermin, van guarding viceugh. and vouchsafingugh? the violently vicious and voraciousugh? violation of volition.ugh? Theugh. only verdict isugh. vengeance; a vendetta, held as a votive not in vain, forugh. the value andugh? veracity ofugh. such shall one dabugh. vindicate the vigilant and the virtuous. Verily this vichyssoise of verbiage veers mostugh? verbose, so let me simply add that its my very good honourugh. to meet you and you mabugh. call meugh. V.'"
            ],
            "application/vnd.google.colaboratory.intrinsic+json": {
              "type": "string"
            }
          },
          "metadata": {},
          "execution_count": 16
        }
      ]
    },
    {
      "cell_type": "markdown",
      "source": [
        "The quote is from the movie: V for Vendetta by Alan Moore."
      ],
      "metadata": {
        "id": "OtHQmCXrMphq"
      }
    }
  ],
  "metadata": {
    "kernelspec": {
      "display_name": "Python 3",
      "language": "python",
      "name": "python3"
    },
    "colab": {
      "provenance": []
    }
  },
  "nbformat": 4,
  "nbformat_minor": 0
}